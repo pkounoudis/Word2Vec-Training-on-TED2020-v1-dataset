{
  "cells": [
    {
      "cell_type": "code",
      "execution_count": 1,
      "metadata": {
        "id": "_n-lEQYtXDlx"
      },
      "outputs": [],
      "source": [
        "from IPython.display import HTML, display\n",
        "\n",
        "def set_css():\n",
        "  display(HTML('''\n",
        "  <style>\n",
        "    pre {\n",
        "        white-space: pre-wrap;\n",
        "    }\n",
        "  </style>\n",
        "  '''))\n",
        "get_ipython().events.register('pre_run_cell', set_css)"
      ]
    },
    {
      "cell_type": "code",
      "execution_count": 2,
      "metadata": {
        "colab": {
          "base_uri": "https://localhost:8080/",
          "height": 34
        },
        "id": "ISwov_TrXQBG",
        "outputId": "9c0ec88a-68ee-4f27-f6e3-bc3ea29cc4f9"
      },
      "outputs": [
        {
          "data": {
            "text/html": [
              "\n",
              "  <style>\n",
              "    pre {\n",
              "        white-space: pre-wrap;\n",
              "    }\n",
              "  </style>\n",
              "  "
            ],
            "text/plain": [
              "<IPython.core.display.HTML object>"
            ]
          },
          "metadata": {},
          "output_type": "display_data"
        },
        {
          "name": "stdout",
          "output_type": "stream",
          "text": [
            "Mounted at /content/drive\n"
          ]
        }
      ],
      "source": [
        "from google.colab import drive\n",
        "drive.mount('/content/drive')"
      ]
    },
    {
      "cell_type": "code",
      "execution_count": 3,
      "metadata": {
        "colab": {
          "base_uri": "https://localhost:8080/",
          "height": 52
        },
        "id": "nxG0nop-XRfv",
        "outputId": "b960e915-60b4-4f7f-886f-1acf7360e01e"
      },
      "outputs": [
        {
          "data": {
            "text/html": [
              "\n",
              "  <style>\n",
              "    pre {\n",
              "        white-space: pre-wrap;\n",
              "    }\n",
              "  </style>\n",
              "  "
            ],
            "text/plain": [
              "<IPython.core.display.HTML object>"
            ]
          },
          "metadata": {},
          "output_type": "display_data"
        },
        {
          "name": "stdout",
          "output_type": "stream",
          "text": [
            "/content\n",
            "/content/drive/MyDrive/Panos/Gold_Dataset Enrichment\n"
          ]
        }
      ],
      "source": [
        "!pwd\n",
        "import os\n",
        "os.chdir('/content/drive/MyDrive/Panos/Gold_Dataset Enrichment')\n",
        "!pwd"
      ]
    },
    {
      "cell_type": "code",
      "execution_count": 27,
      "metadata": {
        "colab": {
          "base_uri": "https://localhost:8080/",
          "height": 17
        },
        "id": "B4oxJ40dXS7O",
        "outputId": "d4c41444-1c27-4557-9f01-7d995f8499c4"
      },
      "outputs": [
        {
          "data": {
            "text/html": [
              "\n",
              "  <style>\n",
              "    pre {\n",
              "        white-space: pre-wrap;\n",
              "    }\n",
              "  </style>\n",
              "  "
            ],
            "text/plain": [
              "<IPython.core.display.HTML object>"
            ]
          },
          "metadata": {},
          "output_type": "display_data"
        }
      ],
      "source": [
        "import json\n",
        "import re\n",
        "\n",
        "with open('/content/drive/MyDrive/Panos/Εργασία DeepLearning/TED2020.en-fr.en', 'r') as file:\n",
        "  # Read the lines of the file into a list\n",
        "  en_lines = file.readlines()"
      ]
    },
    {
      "cell_type": "code",
      "execution_count": 28,
      "metadata": {
        "colab": {
          "base_uri": "https://localhost:8080/",
          "height": 191
        },
        "id": "-G8URySOO-Fm",
        "outputId": "f8a22001-b460-436b-ca5c-46361789597a"
      },
      "outputs": [
        {
          "data": {
            "text/html": [
              "\n",
              "  <style>\n",
              "    pre {\n",
              "        white-space: pre-wrap;\n",
              "    }\n",
              "  </style>\n",
              "  "
            ],
            "text/plain": [
              "<IPython.core.display.HTML object>"
            ]
          },
          "metadata": {},
          "output_type": "display_data"
        },
        {
          "name": "stdout",
          "output_type": "stream",
          "text": [
            "397529\n",
            "['And the water at the North Pole is minus 1.7. \\n', 'The philosopher Thomas More first hinted at it in his book, \"Utopia,\" more than 500 years ago. \\n', \"I had built a persona all around what I could and couldn't do. \\n\", 'It needs to be -- and this is where it gets exciting in terms of working swarmwise -- it needs to be inclusive. \\n', \"How the best solutions come from answering people's aspirations for prosperity, things like being safe and healthy and thriving in this world. \\n\", '(Music: \"Wade in the Water\" by Ella Jenkins) Wade in the water Wade in the water, children Wade in the water God\\'s a-gonna trouble the water Oh, why don\\'t you wade in the water Wade in the water, children Wade in the water God\\'s a-gonna trouble the water See that man all dressed in white God\\'s a-gonna trouble the water He looks like a man of the Israelite God\\'s a-gonna trouble the water Wade in the water Wade in the water, children Wade in the water God\\'s a-gonna trouble the water See that man all dressed in red God\\'s a-gonna trouble the water It looks like the man that Moses led God\\'s a-gonna trouble the water Wade in the water Wade in the water, children Wade in the water God\\'s a-gonna trouble the water Didn\\'t my Lord deliver Daniel Daniel, Daniel Didn\\'t my Lord deliver Daniel Then why not every man? \\n', 'And the UK traditionally has been the strictest country when it comes to human genetic modification. \\n', 'And so then this community formed of people who shared this big inside joke and they started talking about it and doing things with it. \\n', 'Now the question, is this important? \\n', 'But I love to talk. \\n']\n"
          ]
        }
      ],
      "source": [
        "new_dataset = list(set(en_lines))\n",
        "\n",
        "print(len(new_dataset))\n",
        "print(new_dataset[0:10])"
      ]
    },
    {
      "cell_type": "code",
      "execution_count": 29,
      "metadata": {
        "colab": {
          "base_uri": "https://localhost:8080/",
          "height": 173
        },
        "id": "x6nnuXzlZuVy",
        "outputId": "7d51fc9d-8ebd-40e1-f4d9-007428939319"
      },
      "outputs": [
        {
          "data": {
            "text/html": [
              "\n",
              "  <style>\n",
              "    pre {\n",
              "        white-space: pre-wrap;\n",
              "    }\n",
              "  </style>\n",
              "  "
            ],
            "text/plain": [
              "<IPython.core.display.HTML object>"
            ]
          },
          "metadata": {},
          "output_type": "display_data"
        },
        {
          "name": "stdout",
          "output_type": "stream",
          "text": [
            "<class 'list'>\n",
            "410443\n",
            "['Absolutely. \\n', 'Will you like all your children? Of course not. \\n', '(Laughter) And you know your toughest kids are never absent. \\n', '(Laughter) Never. \\n', \"You won't like them all, and the tough ones show up for a reason. \\n\", \"It's the connection. It's the relationships. \\n\", \"So teachers become great actors and great actresses, and we come to work when we don't feel like it, and we're listening to policy that doesn't make sense, and we teach anyway. \\n\", \"We teach anyway, because that's what we do. \\n\", 'Teaching and learning should bring joy. \\n', 'How powerful would our world be if we had kids who were not afraid to take risks, who were not afraid to think, and who had a champion? \\n', 'Every child deserves a champion, an adult who will never give up on them, who understands the power of connection, and insists that they become the best that they can possibly be. \\n', 'Is this job tough? You betcha. \\n', 'Oh God, you betcha. \\n', 'But it is not impossible. \\n', \"We can do this. We're educators. \\n\", \"We're born to make a difference. \\n\", 'Thank you so much. \\n', '(Applause) \\n', '\\n', \"I'm not sure that every person here is familiar with my pictures. \\n\"]\n"
          ]
        }
      ],
      "source": [
        "print(type(en_lines))\n",
        "print(len(en_lines))\n",
        "print(en_lines[100000:100020])\n",
        "\n",
        "small_list = en_lines[100000:100020]"
      ]
    },
    {
      "cell_type": "code",
      "execution_count": 30,
      "metadata": {
        "colab": {
          "base_uri": "https://localhost:8080/",
          "height": 17
        },
        "id": "SSlj9WyfbyM4",
        "outputId": "bec358f2-0560-4887-ced4-142fb71d0bde"
      },
      "outputs": [
        {
          "data": {
            "text/html": [
              "\n",
              "  <style>\n",
              "    pre {\n",
              "        white-space: pre-wrap;\n",
              "    }\n",
              "  </style>\n",
              "  "
            ],
            "text/plain": [
              "<IPython.core.display.HTML object>"
            ]
          },
          "metadata": {},
          "output_type": "display_data"
        }
      ],
      "source": [
        "# A method to clean a dataset from sentences with words that have non-enlgish characters, based on Ascii range.\n",
        "def is_not_english_char(char):\n",
        "    # Check if the character is outside the ASCII range for English characters\n",
        "    return ord(char) > 127"
      ]
    },
    {
      "cell_type": "code",
      "execution_count": 31,
      "metadata": {
        "colab": {
          "base_uri": "https://localhost:8080/",
          "height": 86
        },
        "id": "rkULGr5rNax9",
        "outputId": "66bf8a25-89e5-45d6-f3da-443d736efb4e"
      },
      "outputs": [
        {
          "data": {
            "text/html": [
              "\n",
              "  <style>\n",
              "    pre {\n",
              "        white-space: pre-wrap;\n",
              "    }\n",
              "  </style>\n",
              "  "
            ],
            "text/plain": [
              "<IPython.core.display.HTML object>"
            ]
          },
          "metadata": {},
          "output_type": "display_data"
        },
        {
          "name": "stdout",
          "output_type": "stream",
          "text": [
            "5734\n",
            "0\n",
            "5734\n",
            "391795\n"
          ]
        }
      ],
      "source": [
        "# Cleaning from sentences with non-english words.\n",
        "newer_all_sents_list = []\n",
        "indexes = []\n",
        "count = 0\n",
        "\n",
        "for sent in range(0, len(new_dataset)):\n",
        "\n",
        "  flag = False\n",
        "  sentence = new_dataset[sent].split(\" \")\n",
        "\n",
        "  for token in sentence:\n",
        "    for chara in token:\n",
        "\n",
        "      if is_not_english_char(chara):\n",
        "        flag = True\n",
        "        break\n",
        "\n",
        "  if flag:\n",
        "    indexes.append(sent)\n",
        "    count += 1\n",
        "\n",
        "print(count)\n",
        "print(len(newer_all_sents_list))\n",
        "print(len(indexes))\n",
        "\n",
        "for sent in range(0, len(new_dataset)):\n",
        "\n",
        "  if sent not in indexes:\n",
        "    newer_all_sents_list.append(en_lines[sent])\n",
        "\n",
        "print(len(newer_all_sents_list))"
      ]
    },
    {
      "cell_type": "code",
      "execution_count": 9,
      "metadata": {
        "colab": {
          "base_uri": "https://localhost:8080/",
          "height": 260
        },
        "id": "djLAuF2oN2My",
        "outputId": "2cfb17cd-f2dd-4aec-f98c-f82894ecf688"
      },
      "outputs": [
        {
          "data": {
            "text/html": [
              "\n",
              "  <style>\n",
              "    pre {\n",
              "        white-space: pre-wrap;\n",
              "    }\n",
              "  </style>\n",
              "  "
            ],
            "text/plain": [
              "<IPython.core.display.HTML object>"
            ]
          },
          "metadata": {},
          "output_type": "display_data"
        },
        {
          "name": "stdout",
          "output_type": "stream",
          "text": [
            "<class 'list'>\n",
            "391795\n",
            "['Strangeness is that calibration of closeness and distance that enables me to find the people that I need right now, that enables me to find the sources of intimacy, of discovery, and of inspiration that I need right now. \\n', 'Strangeness is not about meeting strangers. \\n', 'It simply makes the point that we need to disrupt our zones of familiarity. \\n', \"So jogging those zones of familiarity is one way to think about strangeness, and it's a problem faced not just by individuals today, but also by organizations, organizations that are trying to embrace massively new opportunities. \\n\", \"Whether you're a political party insisting to your detriment on a very rigid notion of who belongs and who does not, whether you're the government protecting social institutions like marriage and restricting access of those institutions to the few, whether you're a teenager in her bedroom who's trying to jostle her relations with her parents, strangeness is a way to think about how we pave the way to new kinds of relations. \\n\", 'We have to change the norms. \\n', 'We have to change the norms in order to enable new kinds of technologies as a basis for new kinds of businesses. \\n', 'What interesting questions lie ahead for us in this world of no strangers? \\n', 'How might we think differently about our relations with people? \\n', 'How might we think differently about our relations with distributed groups of people? \\n', 'How might we think differently about our relations with technologies, things that effectively become social participants in their own right? \\n', 'The range of digital relations is extraordinary. \\n', 'In the context of this broad range of digital relations, safely seeking strangeness might very well be a new basis for that innovation. \\n', 'Thank you. \\n', '(Applause) \\n', '\\n', 'Hey guys. \\n', 'It\\'s funny, someone just mentioned MacGyver, because that was, like, I loved it, and when I was seven, I taped a fork to a drill and I was like, \"Hey, Mom, I\\'m going to Olive Garden.\" \\n', 'And -- (Drilling noise) (Laughter) And it worked really well there. \\n', 'And you know, it had a profound effect on me. \\n']\n"
          ]
        }
      ],
      "source": [
        "print(type(newer_all_sents_list))\n",
        "print(len(newer_all_sents_list))\n",
        "print(newer_all_sents_list[100000:100020])\n",
        "\n",
        "small_list = newer_all_sents_list[100000:100020]"
      ]
    },
    {
      "cell_type": "code",
      "execution_count": 32,
      "metadata": {
        "colab": {
          "base_uri": "https://localhost:8080/",
          "height": 104
        },
        "id": "Aua4tsrkOXi7",
        "outputId": "5a6e0b07-3d78-47c6-c310-cf20e6ca8b9f"
      },
      "outputs": [
        {
          "data": {
            "text/html": [
              "\n",
              "  <style>\n",
              "    pre {\n",
              "        white-space: pre-wrap;\n",
              "    }\n",
              "  </style>\n",
              "  "
            ],
            "text/plain": [
              "<IPython.core.display.HTML object>"
            ]
          },
          "metadata": {},
          "output_type": "display_data"
        },
        {
          "name": "stdout",
          "output_type": "stream",
          "text": [
            "391795\n",
            "['Driving ourselves.', '(Laughter) I know it sounds like a little thing to you, but -- (Laughter) I looked in the rear-view mirror and all of a sudden it just hit me.', 'There was no motorcade back there.', \"(Laughter) You've heard of phantom limb pain?\", '(Laughter) This was a rented Ford Taurus.', '(Laughter) It was dinnertime, and we started looking for a place to eat.', 'We were on I-40.', \"We got off the exit, we found a Shoney's restaurant.\", \"Low-cost family restaurant chain, for those of you who don't know it.\", 'We went in and sat down at the booth, and the waitress came over, made a big commotion over Tipper.']\n"
          ]
        }
      ],
      "source": [
        "# Cleaning of /n symbol\n",
        "import re\n",
        "newest_list = []\n",
        "\n",
        "for item in range(0, len(newer_all_sents_list)):\n",
        "\n",
        "  sen = re.sub(r' \\n$', '', newer_all_sents_list[item])\n",
        "  newest_list.append(sen)\n",
        "\n",
        "print(len(newest_list))\n",
        "print(newest_list[10:20])"
      ]
    },
    {
      "cell_type": "code",
      "execution_count": 33,
      "metadata": {
        "colab": {
          "base_uri": "https://localhost:8080/",
          "height": 520
        },
        "id": "KB9v4PNQ3CTJ",
        "outputId": "ba8f6007-7841-40e2-cd06-ec4cdaf63a75"
      },
      "outputs": [
        {
          "data": {
            "text/html": [
              "\n",
              "  <style>\n",
              "    pre {\n",
              "        white-space: pre-wrap;\n",
              "    }\n",
              "  </style>\n",
              "  "
            ],
            "text/plain": [
              "<IPython.core.display.HTML object>"
            ]
          },
          "metadata": {},
          "output_type": "display_data"
        },
        {
          "name": "stdout",
          "output_type": "stream",
          "text": [
            "Tokenizing sentences...\n",
            "  Read 0 sentences.\n",
            "  Read 20,000 sentences.\n",
            "  Read 40,000 sentences.\n",
            "  Read 60,000 sentences.\n",
            "  Read 80,000 sentences.\n",
            "  Read 100,000 sentences.\n",
            "  Read 120,000 sentences.\n",
            "  Read 140,000 sentences.\n",
            "  Read 160,000 sentences.\n",
            "  Read 180,000 sentences.\n",
            "  Read 200,000 sentences.\n",
            "  Read 220,000 sentences.\n",
            "  Read 240,000 sentences.\n",
            "  Read 260,000 sentences.\n",
            "  Read 280,000 sentences.\n",
            "  Read 300,000 sentences.\n",
            "  Read 320,000 sentences.\n",
            "  Read 340,000 sentences.\n",
            "  Read 360,000 sentences.\n",
            "  Read 380,000 sentences.\n",
            "DONE.\n",
            "\n",
            "   391,794 sentences\n",
            " 6,337,579 tokens\n",
            "        16 avg. tokens / sentence\n",
            "\n",
            "CPU times: user 11.3 s, sys: 44.7 ms, total: 11.4 s\n",
            "Wall time: 12.5 s\n"
          ]
        }
      ],
      "source": [
        "%%time\n",
        "\n",
        "import gensim\n",
        "import io\n",
        "\n",
        "print('Tokenizing sentences...')\n",
        "\n",
        "# Track the total number of tokens in the dataset.\n",
        "num_tokens = 0\n",
        "\n",
        "# List of sentences to use for training.\n",
        "sentences = []\n",
        "\n",
        "# For each comment...\n",
        "for item in range(0, len(newest_list)):\n",
        "\n",
        "    # Report progress.\n",
        "    if ((item % 20000) == 0):\n",
        "        print('  Read {:,} sentences.'.format(item))\n",
        "\n",
        "    # Tokenize the comment. This returns a list of words.\n",
        "    parsed = gensim.utils.simple_preprocess(newest_list[item])\n",
        "\n",
        "    # Accumulate the total number of words in the dataset.\n",
        "    num_tokens += len(parsed)\n",
        "\n",
        "    # Add the comment to the list.\n",
        "    sentences.append(parsed)\n",
        "\n",
        "print('DONE.')\n",
        "print('')\n",
        "print('{:>10,} sentences'.format(item))\n",
        "print('{:>10,} tokens'.format(num_tokens))\n",
        "print('{:>10,} avg. tokens / sentence'.format(int(num_tokens / len(sentences))))\n",
        "print('')"
      ]
    },
    {
      "cell_type": "code",
      "execution_count": 34,
      "metadata": {
        "colab": {
          "base_uri": "https://localhost:8080/",
          "height": 86
        },
        "id": "bCslyuoin8oG",
        "outputId": "fec4f14b-ba19-48a8-a93a-7b8e64219709"
      },
      "outputs": [
        {
          "data": {
            "text/html": [
              "\n",
              "  <style>\n",
              "    pre {\n",
              "        white-space: pre-wrap;\n",
              "    }\n",
              "  </style>\n",
              "  "
            ],
            "text/plain": [
              "<IPython.core.display.HTML object>"
            ]
          },
          "metadata": {},
          "output_type": "display_data"
        },
        {
          "name": "stdout",
          "output_type": "stream",
          "text": [
            "   391,794 comments\n",
            " 6,337,579 tokens\n",
            "        16 avg. tokens / comment\n",
            "\n"
          ]
        }
      ],
      "source": [
        "print('{:>10,} comments'.format(item))\n",
        "print('{:>10,} tokens'.format(num_tokens))\n",
        "print('{:>10,} avg. tokens / comment'.format(int(num_tokens / len(sentences))))\n",
        "print('')"
      ]
    },
    {
      "cell_type": "code",
      "execution_count": 35,
      "metadata": {
        "colab": {
          "base_uri": "https://localhost:8080/",
          "height": 17
        },
        "id": "aV3v4aJOoC8s",
        "outputId": "aced3d19-d7e3-4df6-f2da-81d1b2cd1781"
      },
      "outputs": [
        {
          "data": {
            "text/html": [
              "\n",
              "  <style>\n",
              "    pre {\n",
              "        white-space: pre-wrap;\n",
              "    }\n",
              "  </style>\n",
              "  "
            ],
            "text/plain": [
              "<IPython.core.display.HTML object>"
            ]
          },
          "metadata": {},
          "output_type": "display_data"
        }
      ],
      "source": [
        "import logging\n",
        "\n",
        "# Enable logging at the `INFO` level and set a custom format--the\n",
        "# default log format is pretty wordy.\n",
        "logging.basicConfig(\n",
        "    format='%(asctime)s : %(message)s', # Display just time and message.\n",
        "    datefmt='%H:%M:%S', # Display time, but not the date.\n",
        "    level=logging.INFO)"
      ]
    },
    {
      "cell_type": "code",
      "execution_count": 36,
      "metadata": {
        "colab": {
          "base_uri": "https://localhost:8080/",
          "height": 17
        },
        "id": "BHZo4_LWoHmj",
        "outputId": "58eef399-605d-44cf-e9e5-4e65e676ada9"
      },
      "outputs": [
        {
          "data": {
            "text/html": [
              "\n",
              "  <style>\n",
              "    pre {\n",
              "        white-space: pre-wrap;\n",
              "    }\n",
              "  </style>\n",
              "  "
            ],
            "text/plain": [
              "<IPython.core.display.HTML object>"
            ]
          },
          "metadata": {},
          "output_type": "display_data"
        }
      ],
      "source": [
        "model = gensim.models.Word2Vec(vector_size = 100, window=2, min_count=2, workers=10, sg=0, hs=0, negative=20)"
      ]
    },
    {
      "cell_type": "code",
      "execution_count": 37,
      "metadata": {
        "colab": {
          "base_uri": "https://localhost:8080/",
          "height": 17
        },
        "id": "akkypC_goJq3",
        "outputId": "f06ead90-45f4-4b62-84ac-a32ffdd93ebf"
      },
      "outputs": [
        {
          "data": {
            "text/html": [
              "\n",
              "  <style>\n",
              "    pre {\n",
              "        white-space: pre-wrap;\n",
              "    }\n",
              "  </style>\n",
              "  "
            ],
            "text/plain": [
              "<IPython.core.display.HTML object>"
            ]
          },
          "metadata": {},
          "output_type": "display_data"
        }
      ],
      "source": [
        "# Build the vocabulary using the comments in \"sentences\".\n",
        "model.build_vocab(\n",
        "    sentences, # Our comments dataset\n",
        "    progress_per=20000  # Update after this many sentences.\n",
        "                        # Too many progress updates is annoying!\n",
        ")"
      ]
    },
    {
      "cell_type": "code",
      "execution_count": 38,
      "metadata": {
        "colab": {
          "base_uri": "https://localhost:8080/",
          "height": 676
        },
        "id": "zAzevovRo3od",
        "outputId": "27601d38-60b2-45d6-c527-f1dab85f723c"
      },
      "outputs": [
        {
          "data": {
            "text/html": [
              "\n",
              "  <style>\n",
              "    pre {\n",
              "        white-space: pre-wrap;\n",
              "    }\n",
              "  </style>\n",
              "  "
            ],
            "text/plain": [
              "<IPython.core.display.HTML object>"
            ]
          },
          "metadata": {},
          "output_type": "display_data"
        },
        {
          "data": {
            "text/html": [
              "\n",
              "  <div id=\"df-566f6161-9ff8-46c6-a1f9-3eef5481b74f\" class=\"colab-df-container\">\n",
              "    <div>\n",
              "<style scoped>\n",
              "    .dataframe tbody tr th:only-of-type {\n",
              "        vertical-align: middle;\n",
              "    }\n",
              "\n",
              "    .dataframe tbody tr th {\n",
              "        vertical-align: top;\n",
              "    }\n",
              "\n",
              "    .dataframe thead th {\n",
              "        text-align: right;\n",
              "    }\n",
              "</style>\n",
              "<table border=\"1\" class=\"dataframe\">\n",
              "  <thead>\n",
              "    <tr style=\"text-align: right;\">\n",
              "      <th></th>\n",
              "      <th>Word</th>\n",
              "      <th>Count</th>\n",
              "    </tr>\n",
              "  </thead>\n",
              "  <tbody>\n",
              "    <tr>\n",
              "      <th>0</th>\n",
              "      <td>loaning</td>\n",
              "      <td>0</td>\n",
              "    </tr>\n",
              "    <tr>\n",
              "      <th>1</th>\n",
              "      <td>absent</td>\n",
              "      <td>1</td>\n",
              "    </tr>\n",
              "    <tr>\n",
              "      <th>2</th>\n",
              "      <td>qi</td>\n",
              "      <td>2</td>\n",
              "    </tr>\n",
              "    <tr>\n",
              "      <th>3</th>\n",
              "      <td>swells</td>\n",
              "      <td>3</td>\n",
              "    </tr>\n",
              "    <tr>\n",
              "      <th>4</th>\n",
              "      <td>sparks</td>\n",
              "      <td>4</td>\n",
              "    </tr>\n",
              "    <tr>\n",
              "      <th>5</th>\n",
              "      <td>incites</td>\n",
              "      <td>5</td>\n",
              "    </tr>\n",
              "    <tr>\n",
              "      <th>6</th>\n",
              "      <td>pastoral</td>\n",
              "      <td>6</td>\n",
              "    </tr>\n",
              "    <tr>\n",
              "      <th>7</th>\n",
              "      <td>hesitated</td>\n",
              "      <td>7</td>\n",
              "    </tr>\n",
              "    <tr>\n",
              "      <th>8</th>\n",
              "      <td>breathes</td>\n",
              "      <td>8</td>\n",
              "    </tr>\n",
              "    <tr>\n",
              "      <th>9</th>\n",
              "      <td>correctional</td>\n",
              "      <td>9</td>\n",
              "    </tr>\n",
              "    <tr>\n",
              "      <th>10</th>\n",
              "      <td>daniel</td>\n",
              "      <td>10</td>\n",
              "    </tr>\n",
              "    <tr>\n",
              "      <th>11</th>\n",
              "      <td>fedex</td>\n",
              "      <td>11</td>\n",
              "    </tr>\n",
              "    <tr>\n",
              "      <th>12</th>\n",
              "      <td>inclusiveness</td>\n",
              "      <td>12</td>\n",
              "    </tr>\n",
              "    <tr>\n",
              "      <th>13</th>\n",
              "      <td>triggers</td>\n",
              "      <td>13</td>\n",
              "    </tr>\n",
              "    <tr>\n",
              "      <th>14</th>\n",
              "      <td>comply</td>\n",
              "      <td>14</td>\n",
              "    </tr>\n",
              "    <tr>\n",
              "      <th>15</th>\n",
              "      <td>treading</td>\n",
              "      <td>15</td>\n",
              "    </tr>\n",
              "    <tr>\n",
              "      <th>16</th>\n",
              "      <td>entranced</td>\n",
              "      <td>16</td>\n",
              "    </tr>\n",
              "    <tr>\n",
              "      <th>17</th>\n",
              "      <td>stricter</td>\n",
              "      <td>17</td>\n",
              "    </tr>\n",
              "    <tr>\n",
              "      <th>18</th>\n",
              "      <td>seldom</td>\n",
              "      <td>18</td>\n",
              "    </tr>\n",
              "    <tr>\n",
              "      <th>19</th>\n",
              "      <td>restructure</td>\n",
              "      <td>19</td>\n",
              "    </tr>\n",
              "  </tbody>\n",
              "</table>\n",
              "</div>\n",
              "    <div class=\"colab-df-buttons\">\n",
              "\n",
              "  <div class=\"colab-df-container\">\n",
              "    <button class=\"colab-df-convert\" onclick=\"convertToInteractive('df-566f6161-9ff8-46c6-a1f9-3eef5481b74f')\"\n",
              "            title=\"Convert this dataframe to an interactive table.\"\n",
              "            style=\"display:none;\">\n",
              "\n",
              "  <svg xmlns=\"http://www.w3.org/2000/svg\" height=\"24px\" viewBox=\"0 -960 960 960\">\n",
              "    <path d=\"M120-120v-720h720v720H120Zm60-500h600v-160H180v160Zm220 220h160v-160H400v160Zm0 220h160v-160H400v160ZM180-400h160v-160H180v160Zm440 0h160v-160H620v160ZM180-180h160v-160H180v160Zm440 0h160v-160H620v160Z\"/>\n",
              "  </svg>\n",
              "    </button>\n",
              "\n",
              "  <style>\n",
              "    .colab-df-container {\n",
              "      display:flex;\n",
              "      gap: 12px;\n",
              "    }\n",
              "\n",
              "    .colab-df-convert {\n",
              "      background-color: #E8F0FE;\n",
              "      border: none;\n",
              "      border-radius: 50%;\n",
              "      cursor: pointer;\n",
              "      display: none;\n",
              "      fill: #1967D2;\n",
              "      height: 32px;\n",
              "      padding: 0 0 0 0;\n",
              "      width: 32px;\n",
              "    }\n",
              "\n",
              "    .colab-df-convert:hover {\n",
              "      background-color: #E2EBFA;\n",
              "      box-shadow: 0px 1px 2px rgba(60, 64, 67, 0.3), 0px 1px 3px 1px rgba(60, 64, 67, 0.15);\n",
              "      fill: #174EA6;\n",
              "    }\n",
              "\n",
              "    .colab-df-buttons div {\n",
              "      margin-bottom: 4px;\n",
              "    }\n",
              "\n",
              "    [theme=dark] .colab-df-convert {\n",
              "      background-color: #3B4455;\n",
              "      fill: #D2E3FC;\n",
              "    }\n",
              "\n",
              "    [theme=dark] .colab-df-convert:hover {\n",
              "      background-color: #434B5C;\n",
              "      box-shadow: 0px 1px 3px 1px rgba(0, 0, 0, 0.15);\n",
              "      filter: drop-shadow(0px 1px 2px rgba(0, 0, 0, 0.3));\n",
              "      fill: #FFFFFF;\n",
              "    }\n",
              "  </style>\n",
              "\n",
              "    <script>\n",
              "      const buttonEl =\n",
              "        document.querySelector('#df-566f6161-9ff8-46c6-a1f9-3eef5481b74f button.colab-df-convert');\n",
              "      buttonEl.style.display =\n",
              "        google.colab.kernel.accessAllowed ? 'block' : 'none';\n",
              "\n",
              "      async function convertToInteractive(key) {\n",
              "        const element = document.querySelector('#df-566f6161-9ff8-46c6-a1f9-3eef5481b74f');\n",
              "        const dataTable =\n",
              "          await google.colab.kernel.invokeFunction('convertToInteractive',\n",
              "                                                    [key], {});\n",
              "        if (!dataTable) return;\n",
              "\n",
              "        const docLinkHtml = 'Like what you see? Visit the ' +\n",
              "          '<a target=\"_blank\" href=https://colab.research.google.com/notebooks/data_table.ipynb>data table notebook</a>'\n",
              "          + ' to learn more about interactive tables.';\n",
              "        element.innerHTML = '';\n",
              "        dataTable['output_type'] = 'display_data';\n",
              "        await google.colab.output.renderOutput(dataTable, element);\n",
              "        const docLink = document.createElement('div');\n",
              "        docLink.innerHTML = docLinkHtml;\n",
              "        element.appendChild(docLink);\n",
              "      }\n",
              "    </script>\n",
              "  </div>\n",
              "\n",
              "\n",
              "<div id=\"df-6650d5b2-18a3-408e-afd8-9323c732ff61\">\n",
              "  <button class=\"colab-df-quickchart\" onclick=\"quickchart('df-6650d5b2-18a3-408e-afd8-9323c732ff61')\"\n",
              "            title=\"Suggest charts\"\n",
              "            style=\"display:none;\">\n",
              "\n",
              "<svg xmlns=\"http://www.w3.org/2000/svg\" height=\"24px\"viewBox=\"0 0 24 24\"\n",
              "     width=\"24px\">\n",
              "    <g>\n",
              "        <path d=\"M19 3H5c-1.1 0-2 .9-2 2v14c0 1.1.9 2 2 2h14c1.1 0 2-.9 2-2V5c0-1.1-.9-2-2-2zM9 17H7v-7h2v7zm4 0h-2V7h2v10zm4 0h-2v-4h2v4z\"/>\n",
              "    </g>\n",
              "</svg>\n",
              "  </button>\n",
              "\n",
              "<style>\n",
              "  .colab-df-quickchart {\n",
              "      --bg-color: #E8F0FE;\n",
              "      --fill-color: #1967D2;\n",
              "      --hover-bg-color: #E2EBFA;\n",
              "      --hover-fill-color: #174EA6;\n",
              "      --disabled-fill-color: #AAA;\n",
              "      --disabled-bg-color: #DDD;\n",
              "  }\n",
              "\n",
              "  [theme=dark] .colab-df-quickchart {\n",
              "      --bg-color: #3B4455;\n",
              "      --fill-color: #D2E3FC;\n",
              "      --hover-bg-color: #434B5C;\n",
              "      --hover-fill-color: #FFFFFF;\n",
              "      --disabled-bg-color: #3B4455;\n",
              "      --disabled-fill-color: #666;\n",
              "  }\n",
              "\n",
              "  .colab-df-quickchart {\n",
              "    background-color: var(--bg-color);\n",
              "    border: none;\n",
              "    border-radius: 50%;\n",
              "    cursor: pointer;\n",
              "    display: none;\n",
              "    fill: var(--fill-color);\n",
              "    height: 32px;\n",
              "    padding: 0;\n",
              "    width: 32px;\n",
              "  }\n",
              "\n",
              "  .colab-df-quickchart:hover {\n",
              "    background-color: var(--hover-bg-color);\n",
              "    box-shadow: 0 1px 2px rgba(60, 64, 67, 0.3), 0 1px 3px 1px rgba(60, 64, 67, 0.15);\n",
              "    fill: var(--button-hover-fill-color);\n",
              "  }\n",
              "\n",
              "  .colab-df-quickchart-complete:disabled,\n",
              "  .colab-df-quickchart-complete:disabled:hover {\n",
              "    background-color: var(--disabled-bg-color);\n",
              "    fill: var(--disabled-fill-color);\n",
              "    box-shadow: none;\n",
              "  }\n",
              "\n",
              "  .colab-df-spinner {\n",
              "    border: 2px solid var(--fill-color);\n",
              "    border-color: transparent;\n",
              "    border-bottom-color: var(--fill-color);\n",
              "    animation:\n",
              "      spin 1s steps(1) infinite;\n",
              "  }\n",
              "\n",
              "  @keyframes spin {\n",
              "    0% {\n",
              "      border-color: transparent;\n",
              "      border-bottom-color: var(--fill-color);\n",
              "      border-left-color: var(--fill-color);\n",
              "    }\n",
              "    20% {\n",
              "      border-color: transparent;\n",
              "      border-left-color: var(--fill-color);\n",
              "      border-top-color: var(--fill-color);\n",
              "    }\n",
              "    30% {\n",
              "      border-color: transparent;\n",
              "      border-left-color: var(--fill-color);\n",
              "      border-top-color: var(--fill-color);\n",
              "      border-right-color: var(--fill-color);\n",
              "    }\n",
              "    40% {\n",
              "      border-color: transparent;\n",
              "      border-right-color: var(--fill-color);\n",
              "      border-top-color: var(--fill-color);\n",
              "    }\n",
              "    60% {\n",
              "      border-color: transparent;\n",
              "      border-right-color: var(--fill-color);\n",
              "    }\n",
              "    80% {\n",
              "      border-color: transparent;\n",
              "      border-right-color: var(--fill-color);\n",
              "      border-bottom-color: var(--fill-color);\n",
              "    }\n",
              "    90% {\n",
              "      border-color: transparent;\n",
              "      border-bottom-color: var(--fill-color);\n",
              "    }\n",
              "  }\n",
              "</style>\n",
              "\n",
              "  <script>\n",
              "    async function quickchart(key) {\n",
              "      const quickchartButtonEl =\n",
              "        document.querySelector('#' + key + ' button');\n",
              "      quickchartButtonEl.disabled = true;  // To prevent multiple clicks.\n",
              "      quickchartButtonEl.classList.add('colab-df-spinner');\n",
              "      try {\n",
              "        const charts = await google.colab.kernel.invokeFunction(\n",
              "            'suggestCharts', [key], {});\n",
              "      } catch (error) {\n",
              "        console.error('Error during call to suggestCharts:', error);\n",
              "      }\n",
              "      quickchartButtonEl.classList.remove('colab-df-spinner');\n",
              "      quickchartButtonEl.classList.add('colab-df-quickchart-complete');\n",
              "    }\n",
              "    (() => {\n",
              "      let quickchartButtonEl =\n",
              "        document.querySelector('#df-6650d5b2-18a3-408e-afd8-9323c732ff61 button');\n",
              "      quickchartButtonEl.style.display =\n",
              "        google.colab.kernel.accessAllowed ? 'block' : 'none';\n",
              "    })();\n",
              "  </script>\n",
              "</div>\n",
              "    </div>\n",
              "  </div>\n"
            ],
            "text/plain": [
              "             Word  Count\n",
              "0         loaning      0\n",
              "1          absent      1\n",
              "2              qi      2\n",
              "3          swells      3\n",
              "4          sparks      4\n",
              "5         incites      5\n",
              "6        pastoral      6\n",
              "7       hesitated      7\n",
              "8        breathes      8\n",
              "9    correctional      9\n",
              "10         daniel     10\n",
              "11          fedex     11\n",
              "12  inclusiveness     12\n",
              "13       triggers     13\n",
              "14         comply     14\n",
              "15       treading     15\n",
              "16      entranced     16\n",
              "17       stricter     17\n",
              "18         seldom     18\n",
              "19    restructure     19"
            ]
          },
          "metadata": {},
          "output_type": "display_data"
        }
      ],
      "source": [
        "import random\n",
        "import pandas as pd\n",
        "\n",
        "# Retrieve the list of words in the vocabulary as 'vocab'\n",
        "vocab = list(model.wv.index_to_key)\n",
        "\n",
        "# Pick 20 words at random and lookup their counts\n",
        "word_counts = []\n",
        "for i in range(20):\n",
        "    # Pick a random word.\n",
        "    word = random.choice(vocab)\n",
        "\n",
        "    # # Look up its count\n",
        "    # count = model.wv.vocab[word].count\n",
        "\n",
        "    # Add the word to the list.\n",
        "    word_counts.append((word, i))\n",
        "\n",
        "# Build a dataframe from the list just to print a nice table.\n",
        "df = pd.DataFrame(word_counts, columns=['Word', 'Count'])\n",
        "\n",
        "display(df)"
      ]
    },
    {
      "cell_type": "code",
      "execution_count": 39,
      "metadata": {
        "colab": {
          "base_uri": "https://localhost:8080/",
          "height": 458
        },
        "id": "rM13PDz8p6iy",
        "outputId": "b489052f-a5bc-49fb-f762-e6b4d4529446"
      },
      "outputs": [
        {
          "data": {
            "text/html": [
              "\n",
              "  <style>\n",
              "    pre {\n",
              "        white-space: pre-wrap;\n",
              "    }\n",
              "  </style>\n",
              "  "
            ],
            "text/plain": [
              "<IPython.core.display.HTML object>"
            ]
          },
          "metadata": {},
          "output_type": "display_data"
        },
        {
          "name": "stdout",
          "output_type": "stream",
          "text": [
            "<class 'list'>\n",
            "['this', 'so', 'they', 'for', 'was', 'are', 'but', 'have', 'on', 'with']\n"
          ]
        },
        {
          "data": {
            "text/html": [
              "\n",
              "  <div id=\"df-40bc84b7-4090-4af6-a619-eaa8bfaca506\" class=\"colab-df-container\">\n",
              "    <div>\n",
              "<style scoped>\n",
              "    .dataframe tbody tr th:only-of-type {\n",
              "        vertical-align: middle;\n",
              "    }\n",
              "\n",
              "    .dataframe tbody tr th {\n",
              "        vertical-align: top;\n",
              "    }\n",
              "\n",
              "    .dataframe thead th {\n",
              "        text-align: right;\n",
              "    }\n",
              "</style>\n",
              "<table border=\"1\" class=\"dataframe\">\n",
              "  <thead>\n",
              "    <tr style=\"text-align: right;\">\n",
              "      <th></th>\n",
              "      <th>Word</th>\n",
              "      <th>Count</th>\n",
              "    </tr>\n",
              "  </thead>\n",
              "  <tbody>\n",
              "    <tr>\n",
              "      <th>0</th>\n",
              "      <td>the</td>\n",
              "      <td>1</td>\n",
              "    </tr>\n",
              "    <tr>\n",
              "      <th>1</th>\n",
              "      <td>and</td>\n",
              "      <td>1</td>\n",
              "    </tr>\n",
              "    <tr>\n",
              "      <th>2</th>\n",
              "      <td>to</td>\n",
              "      <td>1</td>\n",
              "    </tr>\n",
              "    <tr>\n",
              "      <th>3</th>\n",
              "      <td>of</td>\n",
              "      <td>1</td>\n",
              "    </tr>\n",
              "    <tr>\n",
              "      <th>4</th>\n",
              "      <td>that</td>\n",
              "      <td>1</td>\n",
              "    </tr>\n",
              "    <tr>\n",
              "      <th>...</th>\n",
              "      <td>...</td>\n",
              "      <td>...</td>\n",
              "    </tr>\n",
              "    <tr>\n",
              "      <th>495</th>\n",
              "      <td>felt</td>\n",
              "      <td>1</td>\n",
              "    </tr>\n",
              "    <tr>\n",
              "      <th>496</th>\n",
              "      <td>news</td>\n",
              "      <td>1</td>\n",
              "    </tr>\n",
              "    <tr>\n",
              "      <th>497</th>\n",
              "      <td>animals</td>\n",
              "      <td>1</td>\n",
              "    </tr>\n",
              "    <tr>\n",
              "      <th>498</th>\n",
              "      <td>finally</td>\n",
              "      <td>1</td>\n",
              "    </tr>\n",
              "    <tr>\n",
              "      <th>499</th>\n",
              "      <td>front</td>\n",
              "      <td>1</td>\n",
              "    </tr>\n",
              "  </tbody>\n",
              "</table>\n",
              "<p>500 rows × 2 columns</p>\n",
              "</div>\n",
              "    <div class=\"colab-df-buttons\">\n",
              "\n",
              "  <div class=\"colab-df-container\">\n",
              "    <button class=\"colab-df-convert\" onclick=\"convertToInteractive('df-40bc84b7-4090-4af6-a619-eaa8bfaca506')\"\n",
              "            title=\"Convert this dataframe to an interactive table.\"\n",
              "            style=\"display:none;\">\n",
              "\n",
              "  <svg xmlns=\"http://www.w3.org/2000/svg\" height=\"24px\" viewBox=\"0 -960 960 960\">\n",
              "    <path d=\"M120-120v-720h720v720H120Zm60-500h600v-160H180v160Zm220 220h160v-160H400v160Zm0 220h160v-160H400v160ZM180-400h160v-160H180v160Zm440 0h160v-160H620v160ZM180-180h160v-160H180v160Zm440 0h160v-160H620v160Z\"/>\n",
              "  </svg>\n",
              "    </button>\n",
              "\n",
              "  <style>\n",
              "    .colab-df-container {\n",
              "      display:flex;\n",
              "      gap: 12px;\n",
              "    }\n",
              "\n",
              "    .colab-df-convert {\n",
              "      background-color: #E8F0FE;\n",
              "      border: none;\n",
              "      border-radius: 50%;\n",
              "      cursor: pointer;\n",
              "      display: none;\n",
              "      fill: #1967D2;\n",
              "      height: 32px;\n",
              "      padding: 0 0 0 0;\n",
              "      width: 32px;\n",
              "    }\n",
              "\n",
              "    .colab-df-convert:hover {\n",
              "      background-color: #E2EBFA;\n",
              "      box-shadow: 0px 1px 2px rgba(60, 64, 67, 0.3), 0px 1px 3px 1px rgba(60, 64, 67, 0.15);\n",
              "      fill: #174EA6;\n",
              "    }\n",
              "\n",
              "    .colab-df-buttons div {\n",
              "      margin-bottom: 4px;\n",
              "    }\n",
              "\n",
              "    [theme=dark] .colab-df-convert {\n",
              "      background-color: #3B4455;\n",
              "      fill: #D2E3FC;\n",
              "    }\n",
              "\n",
              "    [theme=dark] .colab-df-convert:hover {\n",
              "      background-color: #434B5C;\n",
              "      box-shadow: 0px 1px 3px 1px rgba(0, 0, 0, 0.15);\n",
              "      filter: drop-shadow(0px 1px 2px rgba(0, 0, 0, 0.3));\n",
              "      fill: #FFFFFF;\n",
              "    }\n",
              "  </style>\n",
              "\n",
              "    <script>\n",
              "      const buttonEl =\n",
              "        document.querySelector('#df-40bc84b7-4090-4af6-a619-eaa8bfaca506 button.colab-df-convert');\n",
              "      buttonEl.style.display =\n",
              "        google.colab.kernel.accessAllowed ? 'block' : 'none';\n",
              "\n",
              "      async function convertToInteractive(key) {\n",
              "        const element = document.querySelector('#df-40bc84b7-4090-4af6-a619-eaa8bfaca506');\n",
              "        const dataTable =\n",
              "          await google.colab.kernel.invokeFunction('convertToInteractive',\n",
              "                                                    [key], {});\n",
              "        if (!dataTable) return;\n",
              "\n",
              "        const docLinkHtml = 'Like what you see? Visit the ' +\n",
              "          '<a target=\"_blank\" href=https://colab.research.google.com/notebooks/data_table.ipynb>data table notebook</a>'\n",
              "          + ' to learn more about interactive tables.';\n",
              "        element.innerHTML = '';\n",
              "        dataTable['output_type'] = 'display_data';\n",
              "        await google.colab.output.renderOutput(dataTable, element);\n",
              "        const docLink = document.createElement('div');\n",
              "        docLink.innerHTML = docLinkHtml;\n",
              "        element.appendChild(docLink);\n",
              "      }\n",
              "    </script>\n",
              "  </div>\n",
              "\n",
              "\n",
              "<div id=\"df-9e221405-2fed-4cb8-8660-e1964811957b\">\n",
              "  <button class=\"colab-df-quickchart\" onclick=\"quickchart('df-9e221405-2fed-4cb8-8660-e1964811957b')\"\n",
              "            title=\"Suggest charts\"\n",
              "            style=\"display:none;\">\n",
              "\n",
              "<svg xmlns=\"http://www.w3.org/2000/svg\" height=\"24px\"viewBox=\"0 0 24 24\"\n",
              "     width=\"24px\">\n",
              "    <g>\n",
              "        <path d=\"M19 3H5c-1.1 0-2 .9-2 2v14c0 1.1.9 2 2 2h14c1.1 0 2-.9 2-2V5c0-1.1-.9-2-2-2zM9 17H7v-7h2v7zm4 0h-2V7h2v10zm4 0h-2v-4h2v4z\"/>\n",
              "    </g>\n",
              "</svg>\n",
              "  </button>\n",
              "\n",
              "<style>\n",
              "  .colab-df-quickchart {\n",
              "      --bg-color: #E8F0FE;\n",
              "      --fill-color: #1967D2;\n",
              "      --hover-bg-color: #E2EBFA;\n",
              "      --hover-fill-color: #174EA6;\n",
              "      --disabled-fill-color: #AAA;\n",
              "      --disabled-bg-color: #DDD;\n",
              "  }\n",
              "\n",
              "  [theme=dark] .colab-df-quickchart {\n",
              "      --bg-color: #3B4455;\n",
              "      --fill-color: #D2E3FC;\n",
              "      --hover-bg-color: #434B5C;\n",
              "      --hover-fill-color: #FFFFFF;\n",
              "      --disabled-bg-color: #3B4455;\n",
              "      --disabled-fill-color: #666;\n",
              "  }\n",
              "\n",
              "  .colab-df-quickchart {\n",
              "    background-color: var(--bg-color);\n",
              "    border: none;\n",
              "    border-radius: 50%;\n",
              "    cursor: pointer;\n",
              "    display: none;\n",
              "    fill: var(--fill-color);\n",
              "    height: 32px;\n",
              "    padding: 0;\n",
              "    width: 32px;\n",
              "  }\n",
              "\n",
              "  .colab-df-quickchart:hover {\n",
              "    background-color: var(--hover-bg-color);\n",
              "    box-shadow: 0 1px 2px rgba(60, 64, 67, 0.3), 0 1px 3px 1px rgba(60, 64, 67, 0.15);\n",
              "    fill: var(--button-hover-fill-color);\n",
              "  }\n",
              "\n",
              "  .colab-df-quickchart-complete:disabled,\n",
              "  .colab-df-quickchart-complete:disabled:hover {\n",
              "    background-color: var(--disabled-bg-color);\n",
              "    fill: var(--disabled-fill-color);\n",
              "    box-shadow: none;\n",
              "  }\n",
              "\n",
              "  .colab-df-spinner {\n",
              "    border: 2px solid var(--fill-color);\n",
              "    border-color: transparent;\n",
              "    border-bottom-color: var(--fill-color);\n",
              "    animation:\n",
              "      spin 1s steps(1) infinite;\n",
              "  }\n",
              "\n",
              "  @keyframes spin {\n",
              "    0% {\n",
              "      border-color: transparent;\n",
              "      border-bottom-color: var(--fill-color);\n",
              "      border-left-color: var(--fill-color);\n",
              "    }\n",
              "    20% {\n",
              "      border-color: transparent;\n",
              "      border-left-color: var(--fill-color);\n",
              "      border-top-color: var(--fill-color);\n",
              "    }\n",
              "    30% {\n",
              "      border-color: transparent;\n",
              "      border-left-color: var(--fill-color);\n",
              "      border-top-color: var(--fill-color);\n",
              "      border-right-color: var(--fill-color);\n",
              "    }\n",
              "    40% {\n",
              "      border-color: transparent;\n",
              "      border-right-color: var(--fill-color);\n",
              "      border-top-color: var(--fill-color);\n",
              "    }\n",
              "    60% {\n",
              "      border-color: transparent;\n",
              "      border-right-color: var(--fill-color);\n",
              "    }\n",
              "    80% {\n",
              "      border-color: transparent;\n",
              "      border-right-color: var(--fill-color);\n",
              "      border-bottom-color: var(--fill-color);\n",
              "    }\n",
              "    90% {\n",
              "      border-color: transparent;\n",
              "      border-bottom-color: var(--fill-color);\n",
              "    }\n",
              "  }\n",
              "</style>\n",
              "\n",
              "  <script>\n",
              "    async function quickchart(key) {\n",
              "      const quickchartButtonEl =\n",
              "        document.querySelector('#' + key + ' button');\n",
              "      quickchartButtonEl.disabled = true;  // To prevent multiple clicks.\n",
              "      quickchartButtonEl.classList.add('colab-df-spinner');\n",
              "      try {\n",
              "        const charts = await google.colab.kernel.invokeFunction(\n",
              "            'suggestCharts', [key], {});\n",
              "      } catch (error) {\n",
              "        console.error('Error during call to suggestCharts:', error);\n",
              "      }\n",
              "      quickchartButtonEl.classList.remove('colab-df-spinner');\n",
              "      quickchartButtonEl.classList.add('colab-df-quickchart-complete');\n",
              "    }\n",
              "    (() => {\n",
              "      let quickchartButtonEl =\n",
              "        document.querySelector('#df-9e221405-2fed-4cb8-8660-e1964811957b button');\n",
              "      quickchartButtonEl.style.display =\n",
              "        google.colab.kernel.accessAllowed ? 'block' : 'none';\n",
              "    })();\n",
              "  </script>\n",
              "</div>\n",
              "    </div>\n",
              "  </div>\n"
            ],
            "text/plain": [
              "        Word Count\n",
              "0        the     1\n",
              "1        and     1\n",
              "2         to     1\n",
              "3         of     1\n",
              "4       that     1\n",
              "..       ...   ...\n",
              "495     felt     1\n",
              "496     news     1\n",
              "497  animals     1\n",
              "498  finally     1\n",
              "499    front     1\n",
              "\n",
              "[500 rows x 2 columns]"
            ]
          },
          "metadata": {},
          "output_type": "display_data"
        }
      ],
      "source": [
        "import pandas as pd\n",
        "from collections import Counter\n",
        "\n",
        "\n",
        "vocab = list(model.wv.index_to_key)\n",
        "print(type(vocab))\n",
        "print(vocab[10:20])\n",
        "\n",
        "# Count the frequency of each word\n",
        "word_counts = Counter(vocab)\n",
        "\n",
        "# Sort the word list by frequency.\n",
        "sorted_word_list = sorted(vocab, key=lambda x: word_counts[x], reverse=True)\n",
        "\n",
        "top_words = []\n",
        "for i in range(500):\n",
        "    # Add the word and it's count (formatted with commas)\n",
        "    top_words.append((sorted_word_list[i], '{:,}'.format(word_counts[sorted_word_list[i]])))\n",
        "\n",
        "df = pd.DataFrame(top_words, columns=['Word', 'Count'])\n",
        "\n",
        "display(df)"
      ]
    },
    {
      "cell_type": "code",
      "execution_count": null,
      "metadata": {
        "colab": {
          "base_uri": "https://localhost:8080/",
          "height": 503
        },
        "id": "yK9ejJO8prTg",
        "outputId": "85fb8578-41b9-4e27-8111-e71fa62684ce"
      },
      "outputs": [
        {
          "data": {
            "text/html": [
              "\n",
              "  <style>\n",
              "    pre {\n",
              "        white-space: pre-wrap;\n",
              "    }\n",
              "  </style>\n",
              "  "
            ],
            "text/plain": [
              "<IPython.core.display.HTML object>"
            ]
          },
          "metadata": {},
          "output_type": "display_data"
        },
        {
          "name": "stdout",
          "output_type": "stream",
          "text": [
            "[('thank', '1'), ('percent', '1'), ('change', '1'), ('didn', '1'), ('own', '1'), ('find', '1'), ('before', '1'), ('each', '1'), ('might', '1'), ('still', '1'), ('great', '1'), ('never', '1'), ('another', '1'), ('should', '1'), ('better', '1'), ('talk', '1'), ('fact', '1'), ('started', '1'), ('idea', '1'), ('last', '1'), ('big', '1'), ('together', '1'), ('women', '1'), ('him', '1'), ('too', '1'), ('thought', '1'), ('give', '1'), ('important', '1'), ('able', '1'), ('long', '1'), ('system', '1'), ('part', '1'), ('problem', '1'), ('next', '1'), ('start', '1'), ('does', '1'), ('brain', '1'), ('off', '1'), ('story', '1'), ('help', '1'), ('between', '1'), ('again', '1'), ('few', '1'), ('water', '1'), ('went', '1'), ('love', '1'), ('used', '1'), ('place', '1'), ('data', '1'), ('may', '1'), ('came', '1'), ('old', '1'), ('maybe', '1'), ('technology', '1'), ('found', '1'), ('ago', '1'), ('course', '1'), ('question', '1'), ('children', '1'), ('end', '1'), ('feel', '1'), ('example', '1'), ('mean', '1'), ('show', '1'), ('person', '1'), ('school', '1'), ('doesn', '1'), ('live', '1'), ('always', '1'), ('understand', '1'), ('real', '1'), ('bit', '1'), ('point', '1'), ('wanted', '1'), ('call', '1'), ('looking', '1'), ('ever', '1'), ('away', '1'), ('working', '1'), ('believe', '1'), ('number', '1'), ('everything', '1'), ('four', '1'), ('home', '1'), ('means', '1'), ('using', '1'), ('done', '1'), ('while', '1'), ('high', '1'), ('trying', '1'), ('power', '1'), ('country', '1'), ('second', '1'), ('million', '1'), ('five', '1'), ('whole', '1'), ('enough', '1'), ('information', '1'), ('without', '1'), ('become', '1'), ('making', '1'), ('future', '1'), ('times', '1'), ('small', '1'), ('thinking', '1'), ('body', '1'), ('try', '1'), ('space', '1'), ('create', '1'), ('best', '1'), ('kids', '1'), ('man', '1'), ('social', '1'), ('less', '1'), ('left', '1'), ('am', '1'), ('money', '1'), ('family', '1'), ('health', '1'), ('city', '1'), ('took', '1'), ('music', '1'), ('ask', '1'), ('light', '1'), ('lives', '1'), ('getting', '1'), ('food', '1'), ('energy', '1'), ('earth', '1'), ('such', '1'), ('comes', '1'), ('hard', '1'), ('sort', '1'), ('imagine', '1'), ('told', '1'), ('across', '1'), ('often', '1'), ('someone', '1'), ('science', '1'), ('experience', '1'), ('once', '1'), ('sense', '1'), ('probably', '1'), ('talking', '1'), ('care', '1'), ('community', '1'), ('young', '1'), ('design', '1'), ('build', '1'), ('makes', '1'), ('building', '1'), ('happened', '1'), ('moment', '1'), ('pretty', '1'), ('both', '1'), ('having', '1'), ('ways', '1'), ('anything', '1'), ('far', '1'), ('half', '1'), ('men', '1'), ('asked', '1'), ('quite', '1'), ('play', '1'), ('yet', '1'), ('countries', '1'), ('living', '1'), ('later', '1'), ('single', '1'), ('process', '1'), ('remember', '1'), ('room', '1'), ('else', '1'), ('side', '1'), ('saw', '1'), ('coming', '1'), ('almost', '1'), ('instead', '1'), ('happen', '1'), ('learn', '1'), ('days', '1'), ('already', '1'), ('seen', '1'), ('simple', '1'), ('sometimes', '1'), ('whether', '1'), ('history', '1'), ('case', '1'), ('cells', '1'), ('move', '1'), ('keep', '1'), ('states', '1'), ('possible', '1'), ('myself', '1'), ('sure', '1'), ('public', '1'), ('nothing', '1'), ('hand', '1'), ('job', '1'), ('inside', '1'), ('interesting', '1'), ('dollars', '1'), ('black', '1'), ('words', '1'), ('happens', '1'), ('global', '1'), ('matter', '1'), ('answer', '1'), ('bad', '1'), ('open', '1'), ('face', '1'), ('within', '1'), ('research', '1'), ('set', '1'), ('since', '1'), ('until', '1'), ('mind', '1'), ('video', '1'), ('says', '1'), ('reason', '1'), ('yes', '1'), ('problems', '1'), ('everyone', '1'), ('stories', '1'), ('wasn', '1'), ('wrong', '1'), ('war', '1'), ('ok', '1'), ('stuff', '1'), ('isn', '1'), ('goes', '1'), ('computer', '1'), ('saying', '1'), ('child', '1'), ('group', '1'), ('though', '1'), ('true', '1'), ('africa', '1'), ('planet', '1'), ('woman', '1'), ('project', '1'), ('six', '1'), ('knew', '1'), ('months', '1'), ('government', '1'), ('age', '1'), ('others', '1'), ('business', '1'), ('looked', '1'), ('united', '1'), ('under', '1'), ('ideas', '1'), ('learned', '1'), ('order', '1'), ('language', '1'), ('against', '1'), ('hope', '1'), ('self', '1'), ('became', '1'), ('form', '1'), ('control', '1'), ('billion', '1'), ('picture', '1'), ('study', '1'), ('read', '1'), ('amazing', '1'), ('turn', '1'), ('must', '1'), ('friends', '1'), ('top', '1'), ('everybody', '1'), ('car', '1'), ('bring', '1'), ('share', '1'), ('exactly', '1'), ('heart', '1'), ('cancer', '1'), ('state', '1'), ('society', '1'), ('questions', '1'), ('stop', '1'), ('book', '1'), ('company', '1'), ('built', '1'), ('heard', '1'), ('oh', '1'), ('head', '1'), ('themselves', '1'), ('mother', '1'), ('word', '1'), ('night', '1'), ('name', '1'), ('beautiful', '1'), ('students', '1'), ('looks', '1'), ('decided', '1'), ('basically', '1'), ('hear', '1'), ('past', '1'), ('taking', '1')]\n"
          ]
        }
      ],
      "source": [
        "print(top_words[150:450])"
      ]
    },
    {
      "cell_type": "code",
      "execution_count": 40,
      "metadata": {
        "colab": {
          "base_uri": "https://localhost:8080/",
          "height": 104
        },
        "id": "w16AZKpYqEBE",
        "outputId": "edd849cf-ba7b-4b69-9f91-43f1ddd922ab"
      },
      "outputs": [
        {
          "data": {
            "text/html": [
              "\n",
              "  <style>\n",
              "    pre {\n",
              "        white-space: pre-wrap;\n",
              "    }\n",
              "  </style>\n",
              "  "
            ],
            "text/plain": [
              "<IPython.core.display.HTML object>"
            ]
          },
          "metadata": {},
          "output_type": "display_data"
        },
        {
          "name": "stdout",
          "output_type": "stream",
          "text": [
            "Training the model...\n",
            "  Done.\n",
            "\n",
            "CPU times: user 5min 1s, sys: 1.21 s, total: 5min 2s\n",
            "Wall time: 3min 12s\n"
          ]
        }
      ],
      "source": [
        "%%time\n",
        "\n",
        "print('Training the model...')\n",
        "\n",
        "model.train(\n",
        "    sentences,\n",
        "    total_examples=len(sentences),\n",
        "    epochs=10,        # How many training passes to take.\n",
        "    report_delay=10.0 # Report progress every 10 seconds.\n",
        ")\n",
        "\n",
        "print('  Done.')\n",
        "print('')"
      ]
    },
    {
      "cell_type": "code",
      "execution_count": 41,
      "metadata": {
        "colab": {
          "base_uri": "https://localhost:8080/",
          "height": 191
        },
        "id": "KoCTKm2ZqL-Z",
        "outputId": "ce7135c5-9ef5-4f8e-ab80-57ce16b78b72"
      },
      "outputs": [
        {
          "data": {
            "text/html": [
              "\n",
              "  <style>\n",
              "    pre {\n",
              "        white-space: pre-wrap;\n",
              "    }\n",
              "  </style>\n",
              "  "
            ],
            "text/plain": [
              "<IPython.core.display.HTML object>"
            ]
          },
          "metadata": {},
          "output_type": "display_data"
        },
        {
          "data": {
            "text/plain": [
              "[('athens', 0.7964233756065369),\n",
              " ('egypt', 0.7837080955505371),\n",
              " ('greeks', 0.7595920562744141),\n",
              " ('bce', 0.7424790263175964),\n",
              " ('poland', 0.7276312708854675),\n",
              " ('babylon', 0.7200020551681519),\n",
              " ('turkey', 0.7161927223205566),\n",
              " ('argentina', 0.71142578125),\n",
              " ('chile', 0.7096178531646729),\n",
              " ('republic', 0.7077590823173523)]"
            ]
          },
          "execution_count": 41,
          "metadata": {},
          "output_type": "execute_result"
        }
      ],
      "source": [
        "model.wv.most_similar('greece')"
      ]
    },
    {
      "cell_type": "code",
      "execution_count": 42,
      "metadata": {
        "colab": {
          "base_uri": "https://localhost:8080/",
          "height": 191
        },
        "id": "Weo9Z-fehMVy",
        "outputId": "6fdb2df5-bdd0-4c9c-c517-18918e6aa4e9"
      },
      "outputs": [
        {
          "data": {
            "text/html": [
              "\n",
              "  <style>\n",
              "    pre {\n",
              "        white-space: pre-wrap;\n",
              "    }\n",
              "  </style>\n",
              "  "
            ],
            "text/plain": [
              "<IPython.core.display.HTML object>"
            ]
          },
          "metadata": {},
          "output_type": "display_data"
        },
        {
          "data": {
            "text/plain": [
              "[('conductor', 0.7634047865867615),\n",
              " ('jr', 0.7573831081390381),\n",
              " ('ken', 0.7457772493362427),\n",
              " ('taylor', 0.741810142993927),\n",
              " ('frederick', 0.7356035113334656),\n",
              " ('jeremy', 0.7279792428016663),\n",
              " ('joseph', 0.7248655557632446),\n",
              " ('mathematician', 0.7239804267883301),\n",
              " ('roger', 0.7153723835945129),\n",
              " ('robinson', 0.7134658098220825)]"
            ]
          },
          "execution_count": 42,
          "metadata": {},
          "output_type": "execute_result"
        }
      ],
      "source": [
        "model.wv.most_similar('singer')"
      ]
    },
    {
      "cell_type": "code",
      "execution_count": 43,
      "metadata": {
        "colab": {
          "base_uri": "https://localhost:8080/",
          "height": 191
        },
        "id": "ITWOcu_fhN2d",
        "outputId": "bd666b1d-a9db-4c89-8e2d-e0be1893b1cf"
      },
      "outputs": [
        {
          "data": {
            "text/html": [
              "\n",
              "  <style>\n",
              "    pre {\n",
              "        white-space: pre-wrap;\n",
              "    }\n",
              "  </style>\n",
              "  "
            ],
            "text/plain": [
              "<IPython.core.display.HTML object>"
            ]
          },
          "metadata": {},
          "output_type": "display_data"
        },
        {
          "data": {
            "text/plain": [
              "[('meat', 0.6677594780921936),\n",
              " ('nutrients', 0.6425996422767639),\n",
              " ('water', 0.5869861841201782),\n",
              " ('fertilizer', 0.5865378975868225),\n",
              " ('electricity', 0.5857367515563965),\n",
              " ('fish', 0.5691546201705933),\n",
              " ('vitamins', 0.5664464831352234),\n",
              " ('recycling', 0.5630779266357422),\n",
              " ('drinking', 0.5559309124946594),\n",
              " ('vegetables', 0.5531998872756958)]"
            ]
          },
          "execution_count": 43,
          "metadata": {},
          "output_type": "execute_result"
        }
      ],
      "source": [
        "model.wv.most_similar('food')"
      ]
    },
    {
      "cell_type": "code",
      "execution_count": 44,
      "metadata": {
        "colab": {
          "base_uri": "https://localhost:8080/",
          "height": 104
        },
        "id": "Onww9ZQnqORE",
        "outputId": "7ce5b496-fb9e-4b31-e111-ca726394f02c"
      },
      "outputs": [
        {
          "data": {
            "text/html": [
              "\n",
              "  <style>\n",
              "    pre {\n",
              "        white-space: pre-wrap;\n",
              "    }\n",
              "  </style>\n",
              "  "
            ],
            "text/plain": [
              "<IPython.core.display.HTML object>"
            ]
          },
          "metadata": {},
          "output_type": "display_data"
        },
        {
          "name": "stdout",
          "output_type": "stream",
          "text": [
            "0.71184826\n",
            "0.6221421\n",
            "0.6480483\n",
            "0.3870353\n",
            "0.4201109\n"
          ]
        }
      ],
      "source": [
        "pairs = [('man', 'boy'),\n",
        "         ('rich', 'poor'),\n",
        "         ('tell', 'say'),\n",
        "         ('research', 'science'),\n",
        "         ('child', 'cat')]\n",
        "\n",
        "for w1, w2 in pairs:\n",
        "  print(model.wv.similarity(w1, w2))"
      ]
    },
    {
      "cell_type": "code",
      "execution_count": 45,
      "metadata": {
        "colab": {
          "base_uri": "https://localhost:8080/",
          "height": 34
        },
        "id": "VnjEs-9S2peE",
        "outputId": "bb063c5c-a4d2-44d8-d7bb-0dee8bb3fad1"
      },
      "outputs": [
        {
          "data": {
            "text/html": [
              "\n",
              "  <style>\n",
              "    pre {\n",
              "        white-space: pre-wrap;\n",
              "    }\n",
              "  </style>\n",
              "  "
            ],
            "text/plain": [
              "<IPython.core.display.HTML object>"
            ]
          },
          "metadata": {},
          "output_type": "display_data"
        },
        {
          "name": "stdout",
          "output_type": "stream",
          "text": [
            "train\n"
          ]
        }
      ],
      "source": [
        "print(model.wv.doesnt_match(\"dog cat rabbit train\".split()))"
      ]
    },
    {
      "cell_type": "code",
      "execution_count": 46,
      "metadata": {
        "colab": {
          "base_uri": "https://localhost:8080/",
          "height": 399
        },
        "id": "XEDlx36ORzQZ",
        "outputId": "dc4423c6-f825-44ef-d871-b42eccaeb36d"
      },
      "outputs": [
        {
          "data": {
            "text/html": [
              "\n",
              "  <style>\n",
              "    pre {\n",
              "        white-space: pre-wrap;\n",
              "    }\n",
              "  </style>\n",
              "  "
            ],
            "text/plain": [
              "<IPython.core.display.HTML object>"
            ]
          },
          "metadata": {},
          "output_type": "display_data"
        },
        {
          "name": "stdout",
          "output_type": "stream",
          "text": [
            "('joseph', 0.6469007730484009)\n",
            "('luther', 0.6445302963256836)\n",
            "('anna', 0.6352007389068604)\n",
            "('arthur', 0.6314187049865723)\n",
            "('sarah', 0.6279601454734802)\n",
            "('clark', 0.625053346157074)\n",
            "('elizabeth', 0.6239917278289795)\n",
            "('muhammad', 0.6204261183738708)\n",
            "('queen', 0.6175561547279358)\n",
            "('goddess', 0.6157066226005554)\n",
            "\n",
            "('husband', 0.7886978387832642)\n",
            "('mother', 0.783138632774353)\n",
            "('daughter', 0.7592624425888062)\n",
            "('grandmother', 0.7471457719802856)\n",
            "('dad', 0.7404740452766418)\n",
            "('mom', 0.730365514755249)\n",
            "('wife', 0.7106415629386902)\n",
            "('girlfriend', 0.7047411799430847)\n",
            "('sister', 0.6925630569458008)\n",
            "('mum', 0.6788232922554016)\n",
            "\n"
          ]
        }
      ],
      "source": [
        "# Analogy Difference\n",
        "results = model.wv.most_similar(positive=['king', 'woman'], negative=['man'])\n",
        "for i in results:\n",
        "  print(i)\n",
        "print()\n",
        "results = model.wv.most_similar(positive=['father', 'woman'], negative=['man'])\n",
        "for i in results:\n",
        "  print(i)\n",
        "print()"
      ]
    },
    {
      "cell_type": "code",
      "execution_count": 47,
      "metadata": {
        "colab": {
          "base_uri": "https://localhost:8080/",
          "height": 191
        },
        "id": "Q0O3k0mRqPwg",
        "outputId": "8d34109f-d1e0-47a4-d4c9-622bc232eff5"
      },
      "outputs": [
        {
          "data": {
            "text/html": [
              "\n",
              "  <style>\n",
              "    pre {\n",
              "        white-space: pre-wrap;\n",
              "    }\n",
              "  </style>\n",
              "  "
            ],
            "text/plain": [
              "<IPython.core.display.HTML object>"
            ]
          },
          "metadata": {},
          "output_type": "display_data"
        },
        {
          "data": {
            "text/plain": [
              "[('gloria', 0.7722572088241577),\n",
              " ('curtis', 0.7703303098678589),\n",
              " ('peggy', 0.7659432888031006),\n",
              " ('proust', 0.7555171847343445),\n",
              " ('ibn', 0.7529256939888),\n",
              " ('saul', 0.7490152716636658),\n",
              " ('madam', 0.7468098998069763),\n",
              " ('quincy', 0.7436009049415588),\n",
              " ('jeffrey', 0.7428888082504272),\n",
              " ('colin', 0.7424374222755432)]"
            ]
          },
          "execution_count": 47,
          "metadata": {},
          "output_type": "execute_result"
        }
      ],
      "source": [
        "model.wv.most_similar('lol')"
      ]
    },
    {
      "cell_type": "code",
      "execution_count": null,
      "metadata": {
        "colab": {
          "base_uri": "https://localhost:8080/",
          "height": 225
        },
        "id": "Lk-bfXWeATly",
        "outputId": "83f2a57a-5ce0-4102-bdd2-0f5c80e1bf2f"
      },
      "outputs": [
        {
          "data": {
            "text/html": [
              "\n",
              "  <style>\n",
              "    pre {\n",
              "        white-space: pre-wrap;\n",
              "    }\n",
              "  </style>\n",
              "  "
            ],
            "text/plain": [
              "<IPython.core.display.HTML object>"
            ]
          },
          "metadata": {},
          "output_type": "display_data"
        },
        {
          "name": "stdout",
          "output_type": "stream",
          "text": [
            "Requirement already satisfied: nltk in /usr/local/lib/python3.10/dist-packages (3.8.1)\n",
            "Requirement already satisfied: click in /usr/local/lib/python3.10/dist-packages (from nltk) (8.1.7)\n",
            "Requirement already satisfied: joblib in /usr/local/lib/python3.10/dist-packages (from nltk) (1.3.2)\n",
            "Requirement already satisfied: regex>=2021.8.3 in /usr/local/lib/python3.10/dist-packages (from nltk) (2023.6.3)\n",
            "Requirement already satisfied: tqdm in /usr/local/lib/python3.10/dist-packages (from nltk) (4.66.1)\n",
            "Collecting pot\n",
            "  Downloading POT-0.9.1-cp310-cp310-manylinux_2_17_x86_64.manylinux2014_x86_64.whl (789 kB)\n",
            "\u001b[2K     \u001b[90m━━━━━━━━━━━━━━━━━━━━━━━━━━━━━━━━━━━━━━━━\u001b[0m \u001b[32m790.0/790.0 kB\u001b[0m \u001b[31m8.0 MB/s\u001b[0m eta \u001b[36m0:00:00\u001b[0m\n",
            "\u001b[?25hRequirement already satisfied: numpy>=1.16 in /usr/local/lib/python3.10/dist-packages (from pot) (1.23.5)\n",
            "Requirement already satisfied: scipy>=1.0 in /usr/local/lib/python3.10/dist-packages (from pot) (1.11.3)\n",
            "Installing collected packages: pot\n",
            "Successfully installed pot-0.9.1\n"
          ]
        }
      ],
      "source": [
        "!pip install nltk\n",
        "!pip install pot"
      ]
    },
    {
      "cell_type": "code",
      "execution_count": 48,
      "metadata": {
        "colab": {
          "base_uri": "https://localhost:8080/",
          "height": 173
        },
        "id": "-e6qX97r-B1Y",
        "outputId": "aaa97e57-0723-4553-e989-4255dbad861d"
      },
      "outputs": [
        {
          "data": {
            "text/html": [
              "\n",
              "  <style>\n",
              "    pre {\n",
              "        white-space: pre-wrap;\n",
              "    }\n",
              "  </style>\n",
              "  "
            ],
            "text/plain": [
              "<IPython.core.display.HTML object>"
            ]
          },
          "metadata": {},
          "output_type": "display_data"
        },
        {
          "name": "stderr",
          "output_type": "stream",
          "text": [
            "[nltk_data] Downloading package stopwords to /root/nltk_data...\n",
            "[nltk_data]   Package stopwords is already up-to-date!\n",
            "<ipython-input-48-366e18caa0bb>:17: DeprecationWarning: Call to deprecated `init_sims` (Use fill_norms() instead. See https://github.com/RaRe-Technologies/gensim/wiki/Migrating-from-Gensim-3.x-to-4).\n",
            "  model.wv.init_sims(replace=True)\n",
            "WARNING:gensim.models.keyedvectors:destructive init_sims(replace=True) deprecated & no longer required for space-efficiency\n"
          ]
        },
        {
          "name": "stdout",
          "output_type": "stream",
          "text": [
            "First and second sentence similarity = 0.5076\n",
            "Second and third sentence similarity = 0.8037\n",
            "Third and first sentence similarity = 0.9810\n"
          ]
        }
      ],
      "source": [
        "# Sentence similarity\n",
        "from nltk.corpus import stopwords\n",
        "from nltk import download\n",
        "import nltk\n",
        "\n",
        "nltk.download('stopwords')\n",
        "stop_words = set(stopwords.words(\"english\"))\n",
        "\n",
        "sent_1 = 'We really do not know how to read the pattern.'.lower().split()\n",
        "final_sent1 = [w for w in sent_1 if w not in stop_words]\n",
        "\n",
        "sent_2 = 'There is no knowledge to read the patterns'.lower().split()\n",
        "final_sent2 = [w for w in sent_2 if w not in stop_words]\n",
        "\n",
        "sent_3 = 'Order two pizzas and one hamburger'.lower().split()\n",
        "final_sent3 = [w for w in sent_3 if w not in stop_words]\n",
        "\n",
        "model.wv.init_sims(replace=True)\n",
        "\n",
        "distance = 1 - model.wv.n_similarity(final_sent1, final_sent2)\n",
        "\n",
        "distance2 = 1 - model.wv.n_similarity(final_sent2, final_sent3)\n",
        "\n",
        "distance3 = 1 - model.wv.n_similarity(final_sent3, final_sent1)\n",
        "print('First and second sentence similarity = %.4f' % distance)\n",
        "print('Second and third sentence similarity = %.4f' % distance2)\n",
        "print('Third and first sentence similarity = %.4f' % distance3)"
      ]
    }
  ],
  "metadata": {
    "accelerator": "GPU",
    "colab": {
      "provenance": []
    },
    "kernelspec": {
      "display_name": "Python 3",
      "name": "python3"
    },
    "language_info": {
      "name": "python"
    }
  },
  "nbformat": 4,
  "nbformat_minor": 0
}
